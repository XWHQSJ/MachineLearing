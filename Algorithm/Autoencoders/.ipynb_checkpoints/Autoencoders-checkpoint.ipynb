{
 "cells": [
  {
   "cell_type": "markdown",
   "metadata": {},
   "source": [
    "# Deep inside: Autoencodes"
   ]
  },
  {
   "cell_type": "markdown",
   "metadata": {},
   "source": [
    "4 types of autoencoders are described using the Keras framework and the MNIST dataset"
   ]
  },
  {
   "cell_type": "markdown",
   "metadata": {},
   "source": [
    "1. Vanilla autoencoder\n",
    "2. Multilayer autoencoder\n",
    "3. Convolutional autoencoder\n",
    "4. Regularized autoencoder"
   ]
  },
  {
   "cell_type": "markdown",
   "metadata": {},
   "source": [
    "## Import the libraries"
   ]
  },
  {
   "cell_type": "code",
   "execution_count": 1,
   "metadata": {},
   "outputs": [
    {
     "name": "stderr",
     "output_type": "stream",
     "text": [
      "Using TensorFlow backend.\n"
     ]
    }
   ],
   "source": [
    "import keras\n",
    "import numpy as np\n",
    "import matplotlib.pyplot as plt\n",
    "%matplotlib inline\n",
    "\n",
    "from keras.datasets import mnist\n",
    "from keras.models import Model\n",
    "from keras.layers import Input, add\n",
    "from keras.layers.core import Layer, Dense, Dropout, Activation, Flatten, Reshape\n",
    "from keras import regularizers\n",
    "from keras.regularizers import l2\n",
    "from keras.layers.convolutional import Conv2D, MaxPooling2D, UpSampling2D, ZeroPadding2D\n",
    "from keras.utils import np_utils"
   ]
  },
  {
   "cell_type": "markdown",
   "metadata": {},
   "source": [
    "## Load data"
   ]
  },
  {
   "cell_type": "markdown",
   "metadata": {},
   "source": [
    "we don't need the labels as the autocoders are unsupervised network"
   ]
  },
  {
   "cell_type": "code",
   "execution_count": 2,
   "metadata": {},
   "outputs": [],
   "source": [
    "(X_train, _), (X_test, _) = mnist.load_data()"
   ]
  },
  {
   "cell_type": "code",
   "execution_count": 3,
   "metadata": {},
   "outputs": [],
   "source": [
    "X_train = X_train.reshape(X_train.shape[0], 28, 28, 1)\n",
    "X_test = X_test.reshape(X_test.shape[0], 28, 28, 1)"
   ]
  },
  {
   "cell_type": "markdown",
   "metadata": {},
   "source": [
    "## Normalize the data"
   ]
  },
  {
   "cell_type": "markdown",
   "metadata": {},
   "source": [
    "we want the pixels values between 0 and 1 instead of between 0 and 255"
   ]
  },
  {
   "cell_type": "code",
   "execution_count": 4,
   "metadata": {},
   "outputs": [
    {
     "name": "stdout",
     "output_type": "stream",
     "text": [
      "X_train shape (60000, 28, 28, 1)\n",
      "60000 train simples\n",
      "10000 test simples\n"
     ]
    }
   ],
   "source": [
    "X_train = X_train.astype(\"float32\")/255\n",
    "X_test = X_test.astype(\"float32\")/255\n",
    "\n",
    "print('X_train shape', X_train.shape)\n",
    "print(X_train.shape[0], 'train simples')\n",
    "print(X_test.shape[0], 'test simples')"
   ]
  },
  {
   "cell_type": "markdown",
   "metadata": {},
   "source": [
    "## Flatten the images for the Fully-Connected Networks"
   ]
  },
  {
   "cell_type": "code",
   "execution_count": 5,
   "metadata": {},
   "outputs": [],
   "source": [
    "X_train = X_train.reshape((len(X_train), np.prod(X_train.shape[1:])))\n",
    "X_test = X_test.reshape((len(X_test), np.prod(X_test.shape[1:])))"
   ]
  },
  {
   "cell_type": "markdown",
   "metadata": {},
   "source": [
    "# Vanilla Autoencoder"
   ]
  },
  {
   "cell_type": "markdown",
   "metadata": {},
   "source": [
    "## Create the network"
   ]
  },
  {
   "cell_type": "markdown",
   "metadata": {},
   "source": [
    "the first network is the most simple autoencoder. It has three layers: Input-encoded-decoded"
   ]
  },
  {
   "cell_type": "code",
   "execution_count": 6,
   "metadata": {},
   "outputs": [],
   "source": [
    "input_size = 784\n",
    "hidden_size = 64\n",
    "output_size = 784"
   ]
  },
  {
   "cell_type": "code",
   "execution_count": 7,
   "metadata": {},
   "outputs": [
    {
     "name": "stdout",
     "output_type": "stream",
     "text": [
      "WARNING:tensorflow:From /home/wanhuixu/anaconda3/lib/python3.7/site-packages/tensorflow/python/framework/op_def_library.py:263: colocate_with (from tensorflow.python.framework.ops) is deprecated and will be removed in a future version.\n",
      "Instructions for updating:\n",
      "Colocations handled automatically by placer.\n"
     ]
    }
   ],
   "source": [
    "x = Input(shape=(input_size,))\n",
    "h = Dense(hidden_size, activation='relu')(x)\n",
    "r = Dense(output_size, activation='relu')(h)"
   ]
  },
  {
   "cell_type": "code",
   "execution_count": 8,
   "metadata": {},
   "outputs": [],
   "source": [
    "autoencoder = Model(inputs=x, outputs=r)"
   ]
  },
  {
   "cell_type": "code",
   "execution_count": 9,
   "metadata": {},
   "outputs": [],
   "source": [
    "autoencoder.compile(optimizer='adam', loss='mse')"
   ]
  },
  {
   "cell_type": "code",
   "execution_count": 10,
   "metadata": {},
   "outputs": [],
   "source": [
    "from IPython.display import SVG\n",
    "from keras.utils.vis_utils import model_to_dot"
   ]
  },
  {
   "cell_type": "code",
   "execution_count": 11,
   "metadata": {},
   "outputs": [
    {
     "data": {
      "image/svg+xml": [
       "<svg height=\"191pt\" viewBox=\"0.00 0.00 168.00 191.00\" width=\"168pt\" xmlns=\"http://www.w3.org/2000/svg\" xmlns:xlink=\"http://www.w3.org/1999/xlink\">\n",
       "<g class=\"graph\" id=\"graph0\" transform=\"scale(1 1) rotate(0) translate(4 187)\">\n",
       "<title>G</title>\n",
       "<polygon fill=\"#ffffff\" points=\"-4,4 -4,-187 164,-187 164,4 -4,4\" stroke=\"transparent\"/>\n",
       "<!-- 140588772935776 -->\n",
       "<g class=\"node\" id=\"node1\">\n",
       "<title>140588772935776</title>\n",
       "<polygon fill=\"none\" points=\"0,-146.5 0,-182.5 160,-182.5 160,-146.5 0,-146.5\" stroke=\"#000000\"/>\n",
       "<text fill=\"#000000\" font-family=\"Times,serif\" font-size=\"14.00\" text-anchor=\"middle\" x=\"80\" y=\"-160.8\">input_1: InputLayer</text>\n",
       "</g>\n",
       "<!-- 140588772837080 -->\n",
       "<g class=\"node\" id=\"node2\">\n",
       "<title>140588772837080</title>\n",
       "<polygon fill=\"none\" points=\"16,-73.5 16,-109.5 144,-109.5 144,-73.5 16,-73.5\" stroke=\"#000000\"/>\n",
       "<text fill=\"#000000\" font-family=\"Times,serif\" font-size=\"14.00\" text-anchor=\"middle\" x=\"80\" y=\"-87.8\">dense_1: Dense</text>\n",
       "</g>\n",
       "<!-- 140588772935776&#45;&gt;140588772837080 -->\n",
       "<g class=\"edge\" id=\"edge1\">\n",
       "<title>140588772935776-&gt;140588772837080</title>\n",
       "<path d=\"M80,-146.4551C80,-138.3828 80,-128.6764 80,-119.6817\" fill=\"none\" stroke=\"#000000\"/>\n",
       "<polygon fill=\"#000000\" points=\"83.5001,-119.5903 80,-109.5904 76.5001,-119.5904 83.5001,-119.5903\" stroke=\"#000000\"/>\n",
       "</g>\n",
       "<!-- 140588772839152 -->\n",
       "<g class=\"node\" id=\"node3\">\n",
       "<title>140588772839152</title>\n",
       "<polygon fill=\"none\" points=\"16,-.5 16,-36.5 144,-36.5 144,-.5 16,-.5\" stroke=\"#000000\"/>\n",
       "<text fill=\"#000000\" font-family=\"Times,serif\" font-size=\"14.00\" text-anchor=\"middle\" x=\"80\" y=\"-14.8\">dense_2: Dense</text>\n",
       "</g>\n",
       "<!-- 140588772837080&#45;&gt;140588772839152 -->\n",
       "<g class=\"edge\" id=\"edge2\">\n",
       "<title>140588772837080-&gt;140588772839152</title>\n",
       "<path d=\"M80,-73.4551C80,-65.3828 80,-55.6764 80,-46.6817\" fill=\"none\" stroke=\"#000000\"/>\n",
       "<polygon fill=\"#000000\" points=\"83.5001,-46.5903 80,-36.5904 76.5001,-46.5904 83.5001,-46.5903\" stroke=\"#000000\"/>\n",
       "</g>\n",
       "</g>\n",
       "</svg>"
      ],
      "text/plain": [
       "<IPython.core.display.SVG object>"
      ]
     },
     "execution_count": 11,
     "metadata": {},
     "output_type": "execute_result"
    }
   ],
   "source": [
    "SVG(model_to_dot(autoencoder).create(prog='dot', format='svg'))"
   ]
  },
  {
   "cell_type": "markdown",
   "metadata": {},
   "source": [
    "## Train"
   ]
  },
  {
   "cell_type": "code",
   "execution_count": 12,
   "metadata": {},
   "outputs": [
    {
     "name": "stdout",
     "output_type": "stream",
     "text": [
      "WARNING:tensorflow:From /home/wanhuixu/anaconda3/lib/python3.7/site-packages/tensorflow/python/ops/math_ops.py:3066: to_int32 (from tensorflow.python.ops.math_ops) is deprecated and will be removed in a future version.\n",
      "Instructions for updating:\n",
      "Use tf.cast instead.\n",
      "Train on 60000 samples, validate on 10000 samples\n",
      "Epoch 1/5\n",
      "60000/60000 [==============================] - 3s 56us/step - loss: 0.0246 - val_loss: 0.0127\n",
      "Epoch 2/5\n",
      "60000/60000 [==============================] - 3s 49us/step - loss: 0.0116 - val_loss: 0.0105\n",
      "Epoch 3/5\n",
      "60000/60000 [==============================] - 3s 49us/step - loss: 0.0103 - val_loss: 0.0098\n",
      "Epoch 4/5\n",
      "60000/60000 [==============================] - 3s 50us/step - loss: 0.0098 - val_loss: 0.0094\n",
      "Epoch 5/5\n",
      "60000/60000 [==============================] - 3s 51us/step - loss: 0.0094 - val_loss: 0.0092\n"
     ]
    }
   ],
   "source": [
    "epochs = 5\n",
    "batch_size = 128\n",
    "\n",
    "history = autoencoder.fit(X_train, X_train, batch_size=batch_size, epochs=epochs, verbose=1, validation_data=(X_test, X_test))"
   ]
  },
  {
   "cell_type": "code",
   "execution_count": 13,
   "metadata": {},
   "outputs": [],
   "source": [
    "conv_encoder = Model(x, h)"
   ]
  },
  {
   "cell_type": "code",
   "execution_count": 14,
   "metadata": {},
   "outputs": [],
   "source": [
    "encoded_imgs = conv_encoder.predict(X_test)"
   ]
  },
  {
   "cell_type": "code",
   "execution_count": 15,
   "metadata": {},
   "outputs": [
    {
     "data": {
      "image/png": "[encoded data removed]",
      "text/plain": [
       "<Figure size 1440x576 with 10 Axes>"
      ]
     },
     "metadata": {
      "needs_background": "light"
     },
     "output_type": "display_data"
    }
   ],
   "source": [
    "n = 10\n",
    "plt.figure(figsize=(20, 8))\n",
    "for i in range(n):\n",
    "    ax = plt.subplot(1, n, i+1)\n",
    "    plt.imshow(encoded_imgs[i].reshape(4, 16).T)\n",
    "    plt.gray()\n",
    "    ax.get_xaxis().set_visible(False)\n",
    "    ax.get_yaxis().set_visible(False)\n",
    "plt.show()"
   ]
  },
  {
   "cell_type": "markdown",
   "metadata": {},
   "source": [
    "## Predict on the test set"
   ]
  },
  {
   "cell_type": "code",
   "execution_count": 16,
   "metadata": {},
   "outputs": [],
   "source": [
    "decoded_imgs = autoencoder.predict(X_test)"
   ]
  },
  {
   "cell_type": "code",
   "execution_count": 17,
   "metadata": {},
   "outputs": [
    {
     "data": {
      "image/png": "[encoded data removed]",
      "text/plain": [
       "<Figure size 1440x432 with 20 Axes>"
      ]
     },
     "metadata": {
      "needs_background": "light"
     },
     "output_type": "display_data"
    }
   ],
   "source": [
    "n = 10\n",
    "plt.figure(figsize=(20, 6))\n",
    "for i in range(n):\n",
    "    # display original\n",
    "    ax = plt.subplot(3, n, i+1)\n",
    "    plt.imshow(X_test[i].reshape(28, 28))\n",
    "    plt.gray()\n",
    "    ax.get_xaxis().set_visible(False)\n",
    "    ax.get_yaxis().set_visible(False)\n",
    "\n",
    "    \n",
    "    # display reconstruction\n",
    "    ax = plt.subplot(3, n, i+n+1)\n",
    "    plt.imshow(decoded_imgs[i].reshape(28, 28))\n",
    "    plt.gray()\n",
    "    ax.get_xaxis().set_visible(False)\n",
    "    ax.get_yaxis().set_visible(False)\n",
    "    \n",
    "plt.show()"
   ]
  },
  {
   "cell_type": "code",
   "execution_count": 18,
   "metadata": {},
   "outputs": [
    {
     "name": "stdout",
     "output_type": "stream",
     "text": [
      "dict_keys(['val_loss', 'loss'])\n"
     ]
    },
    {
     "data": {
      "image/png": "[encoded data removed]",
      "text/plain": [
       "<Figure size 432x288 with 1 Axes>"
      ]
     },
     "metadata": {
      "needs_background": "light"
     },
     "output_type": "display_data"
    }
   ],
   "source": [
    "print(history.history.keys())\n",
    "\n",
    "plt.plot(history.history['loss'])\n",
    "plt.plot(history.history['val_loss'])\n",
    "plt.title('model loss')\n",
    "plt.ylabel('loss')\n",
    "plt.xlabel('epoch')\n",
    "plt.legend(['train', 'validation'], loc='upper right')\n",
    "plt.show()"
   ]
  },
  {
   "cell_type": "markdown",
   "metadata": {},
   "source": [
    "# Multilayer autoencoder"
   ]
  },
  {
   "cell_type": "markdown",
   "metadata": {},
   "source": [
    "## Create the network"
   ]
  },
  {
   "cell_type": "markdown",
   "metadata": {},
   "source": [
    "we extend the idea of the first network to more layers"
   ]
  },
  {
   "cell_type": "code",
   "execution_count": 19,
   "metadata": {},
   "outputs": [],
   "source": [
    "input_size = 784\n",
    "hidden_size = 128\n",
    "code_size = 64\n",
    "\n",
    "x = Input(shape=(input_size,))\n",
    "hidden_1 = Dense(hidden_size, activation='relu')(x)\n",
    "h = Dense(code_size, activation='relu')(hidden_1)\n",
    "hidden_2 = Dense(hidden_size, activation='relu')(h)\n",
    "r = Dense(input_size, activation='sigmoid')(hidden_2)\n",
    "\n",
    "autoencoder = Model(inputs=x, outputs=r)\n",
    "autoencoder.compile(optimizer='adam', loss='mse')\n"
   ]
  },
  {
   "cell_type": "code",
   "execution_count": 20,
   "metadata": {
    "scrolled": true
   },
   "outputs": [
    {
     "data": {
      "image/svg+xml": [
       "<svg height=\"337pt\" viewBox=\"0.00 0.00 168.00 337.00\" width=\"168pt\" xmlns=\"http://www.w3.org/2000/svg\" xmlns:xlink=\"http://www.w3.org/1999/xlink\">\n",
       "<g class=\"graph\" id=\"graph0\" transform=\"scale(1 1) rotate(0) translate(4 333)\">\n",
       "<title>G</title>\n",
       "<polygon fill=\"#ffffff\" points=\"-4,4 -4,-333 164,-333 164,4 -4,4\" stroke=\"transparent\"/>\n",
       "<!-- 140586759051528 -->\n",
       "<g class=\"node\" id=\"node1\">\n",
       "<title>140586759051528</title>\n",
       "<polygon fill=\"none\" points=\"0,-292.5 0,-328.5 160,-328.5 160,-292.5 0,-292.5\" stroke=\"#000000\"/>\n",
       "<text fill=\"#000000\" font-family=\"Times,serif\" font-size=\"14.00\" text-anchor=\"middle\" x=\"80\" y=\"-306.8\">input_2: InputLayer</text>\n",
       "</g>\n",
       "<!-- 140586759050184 -->\n",
       "<g class=\"node\" id=\"node2\">\n",
       "<title>140586759050184</title>\n",
       "<polygon fill=\"none\" points=\"16,-219.5 16,-255.5 144,-255.5 144,-219.5 16,-219.5\" stroke=\"#000000\"/>\n",
       "<text fill=\"#000000\" font-family=\"Times,serif\" font-size=\"14.00\" text-anchor=\"middle\" x=\"80\" y=\"-233.8\">dense_3: Dense</text>\n",
       "</g>\n",
       "<!-- 140586759051528&#45;&gt;140586759050184 -->\n",
       "<g class=\"edge\" id=\"edge1\">\n",
       "<title>140586759051528-&gt;140586759050184</title>\n",
       "<path d=\"M80,-292.4551C80,-284.3828 80,-274.6764 80,-265.6817\" fill=\"none\" stroke=\"#000000\"/>\n",
       "<polygon fill=\"#000000\" points=\"83.5001,-265.5903 80,-255.5904 76.5001,-265.5904 83.5001,-265.5903\" stroke=\"#000000\"/>\n",
       "</g>\n",
       "<!-- 140586759052088 -->\n",
       "<g class=\"node\" id=\"node3\">\n",
       "<title>140586759052088</title>\n",
       "<polygon fill=\"none\" points=\"16,-146.5 16,-182.5 144,-182.5 144,-146.5 16,-146.5\" stroke=\"#000000\"/>\n",
       "<text fill=\"#000000\" font-family=\"Times,serif\" font-size=\"14.00\" text-anchor=\"middle\" x=\"80\" y=\"-160.8\">dense_4: Dense</text>\n",
       "</g>\n",
       "<!-- 140586759050184&#45;&gt;140586759052088 -->\n",
       "<g class=\"edge\" id=\"edge2\">\n",
       "<title>140586759050184-&gt;140586759052088</title>\n",
       "<path d=\"M80,-219.4551C80,-211.3828 80,-201.6764 80,-192.6817\" fill=\"none\" stroke=\"#000000\"/>\n",
       "<polygon fill=\"#000000\" points=\"83.5001,-192.5903 80,-182.5904 76.5001,-192.5904 83.5001,-192.5903\" stroke=\"#000000\"/>\n",
       "</g>\n",
       "<!-- 140586759332080 -->\n",
       "<g class=\"node\" id=\"node4\">\n",
       "<title>140586759332080</title>\n",
       "<polygon fill=\"none\" points=\"16,-73.5 16,-109.5 144,-109.5 144,-73.5 16,-73.5\" stroke=\"#000000\"/>\n",
       "<text fill=\"#000000\" font-family=\"Times,serif\" font-size=\"14.00\" text-anchor=\"middle\" x=\"80\" y=\"-87.8\">dense_5: Dense</text>\n",
       "</g>\n",
       "<!-- 140586759052088&#45;&gt;140586759332080 -->\n",
       "<g class=\"edge\" id=\"edge3\">\n",
       "<title>140586759052088-&gt;140586759332080</title>\n",
       "<path d=\"M80,-146.4551C80,-138.3828 80,-128.6764 80,-119.6817\" fill=\"none\" stroke=\"#000000\"/>\n",
       "<polygon fill=\"#000000\" points=\"83.5001,-119.5903 80,-109.5904 76.5001,-119.5904 83.5001,-119.5903\" stroke=\"#000000\"/>\n",
       "</g>\n",
       "<!-- 140586758971800 -->\n",
       "<g class=\"node\" id=\"node5\">\n",
       "<title>140586758971800</title>\n",
       "<polygon fill=\"none\" points=\"16,-.5 16,-36.5 144,-36.5 144,-.5 16,-.5\" stroke=\"#000000\"/>\n",
       "<text fill=\"#000000\" font-family=\"Times,serif\" font-size=\"14.00\" text-anchor=\"middle\" x=\"80\" y=\"-14.8\">dense_6: Dense</text>\n",
       "</g>\n",
       "<!-- 140586759332080&#45;&gt;140586758971800 -->\n",
       "<g class=\"edge\" id=\"edge4\">\n",
       "<title>140586759332080-&gt;140586758971800</title>\n",
       "<path d=\"M80,-73.4551C80,-65.3828 80,-55.6764 80,-46.6817\" fill=\"none\" stroke=\"#000000\"/>\n",
       "<polygon fill=\"#000000\" points=\"83.5001,-46.5903 80,-36.5904 76.5001,-46.5904 83.5001,-46.5903\" stroke=\"#000000\"/>\n",
       "</g>\n",
       "</g>\n",
       "</svg>"
      ],
      "text/plain": [
       "<IPython.core.display.SVG object>"
      ]
     },
     "execution_count": 20,
     "metadata": {},
     "output_type": "execute_result"
    }
   ],
   "source": [
    "from IPython.display import SVG\n",
    "from keras.utils.vis_utils import model_to_dot\n",
    "\n",
    "SVG(model_to_dot(autoencoder).create(prog='dot', format='svg'))"
   ]
  },
  {
   "cell_type": "markdown",
   "metadata": {},
   "source": [
    "## Train"
   ]
  },
  {
   "cell_type": "code",
   "execution_count": 21,
   "metadata": {
    "scrolled": true
   },
   "outputs": [
    {
     "name": "stdout",
     "output_type": "stream",
     "text": [
      "Train on 60000 samples, validate on 10000 samples\n",
      "Epoch 1/5\n",
      "60000/60000 [==============================] - 5s 81us/step - loss: 0.0406 - val_loss: 0.0178\n",
      "Epoch 2/5\n",
      "60000/60000 [==============================] - 4s 72us/step - loss: 0.0149 - val_loss: 0.0124\n",
      "Epoch 3/5\n",
      "60000/60000 [==============================] - 4s 74us/step - loss: 0.0116 - val_loss: 0.0101\n",
      "Epoch 4/5\n",
      "60000/60000 [==============================] - 4s 71us/step - loss: 0.0096 - val_loss: 0.0086\n",
      "Epoch 5/5\n",
      "60000/60000 [==============================] - 4s 73us/step - loss: 0.0085 - val_loss: 0.0078\n"
     ]
    }
   ],
   "source": [
    "epochs = 5\n",
    "batch_size = 128\n",
    "\n",
    "history = autoencoder.fit(X_train, X_train, batch_size=batch_size, epochs=epochs, verbose=1, validation_data=(X_test, X_test))"
   ]
  },
  {
   "cell_type": "markdown",
   "metadata": {},
   "source": [
    "## Predict on the test set"
   ]
  },
  {
   "cell_type": "code",
   "execution_count": 22,
   "metadata": {},
   "outputs": [],
   "source": [
    "decoded_imgs = autoencoder.predict(X_test)"
   ]
  },
  {
   "cell_type": "markdown",
   "metadata": {},
   "source": [
    "## Plot"
   ]
  },
  {
   "cell_type": "code",
   "execution_count": 23,
   "metadata": {},
   "outputs": [
    {
     "data": {
      "image/png": "[encoded data removed]",
      "text/plain": [
       "<Figure size 1440x432 with 20 Axes>"
      ]
     },
     "metadata": {
      "needs_background": "light"
     },
     "output_type": "display_data"
    }
   ],
   "source": [
    "n = 10\n",
    "plt.figure(figsize=(20, 6))\n",
    "for i in range(n):\n",
    "    # display original\n",
    "    ax = plt.subplot(3, n, i+1)\n",
    "    plt.imshow(X_test[i].reshape(28, 28))\n",
    "    plt.gray()\n",
    "    ax.get_xaxis().set_visible(False)\n",
    "    ax.get_yaxis().set_visible(False)\n",
    "    \n",
    "    # display reconstruction\n",
    "    ax = plt.subplot(3, n, i+n+1)\n",
    "    plt.imshow(decoded_imgs[i].reshape(28, 28))\n",
    "    plt.gray()\n",
    "    ax.get_xaxis().set_visible(False)\n",
    "    ax.get_yaxis().set_visible(False)\n",
    "plt.show()"
   ]
  },
  {
   "cell_type": "markdown",
   "metadata": {},
   "source": [
    "## Plot the losses"
   ]
  },
  {
   "cell_type": "code",
   "execution_count": 24,
   "metadata": {},
   "outputs": [
    {
     "name": "stdout",
     "output_type": "stream",
     "text": [
      "dict_keys(['val_loss', 'loss'])\n"
     ]
    },
    {
     "data": {
      "image/png": "[encoded data removed]",
      "text/plain": [
       "<Figure size 432x288 with 1 Axes>"
      ]
     },
     "metadata": {
      "needs_background": "light"
     },
     "output_type": "display_data"
    }
   ],
   "source": [
    "print(history.history.keys())\n",
    "\n",
    "plt.plot(history.history['loss'])\n",
    "plt.plot(history.history['val_loss'])\n",
    "plt.title('model loss')\n",
    "plt.ylabel('loss')\n",
    "plt.xlabel('epoch')\n",
    "plt.legend(['train', 'validation'], loc='upper right')\n",
    "plt.show()"
   ]
  },
  {
   "cell_type": "markdown",
   "metadata": {},
   "source": [
    "# Regularized autoencoder"
   ]
  },
  {
   "cell_type": "markdown",
   "metadata": {},
   "source": [
    "two types of regularization are described:\n",
    "1. Sparse autoencoder\n",
    "2. Denoising autoencoder"
   ]
  },
  {
   "cell_type": "markdown",
   "metadata": {},
   "source": [
    "## 1. Sparse autoencoder"
   ]
  },
  {
   "cell_type": "markdown",
   "metadata": {},
   "source": [
    "### Create the network"
   ]
  },
  {
   "cell_type": "code",
   "execution_count": 125,
   "metadata": {},
   "outputs": [],
   "source": [
    "input_size = 784\n",
    "hidden_size = 32\n",
    "output_size = 1"
   ]
  },
  {
   "cell_type": "code",
   "execution_count": 126,
   "metadata": {},
   "outputs": [],
   "source": [
    "x = Input(shape=(28, 28, 1))\n",
    "h = Dense(hidden_size, activation='relu', activity_regularizer=regularizers.l1(10e-5))(x)\n",
    "r = Dense(output_size, activation='sigmoid')(h)\n",
    "\n",
    "autoencoder = Model(inputs=x, outputs=r)\n",
    "autoencoder.compile(optimizer='adam', loss='mse')"
   ]
  },
  {
   "cell_type": "code",
   "execution_count": 127,
   "metadata": {},
   "outputs": [
    {
     "data": {
      "image/svg+xml": [
       "<svg height=\"191pt\" viewBox=\"0.00 0.00 177.00 191.00\" width=\"177pt\" xmlns=\"http://www.w3.org/2000/svg\" xmlns:xlink=\"http://www.w3.org/1999/xlink\">\n",
       "<g class=\"graph\" id=\"graph0\" transform=\"scale(1 1) rotate(0) translate(4 187)\">\n",
       "<title>G</title>\n",
       "<polygon fill=\"#ffffff\" points=\"-4,4 -4,-187 173,-187 173,4 -4,4\" stroke=\"transparent\"/>\n",
       "<!-- 140586752150496 -->\n",
       "<g class=\"node\" id=\"node1\">\n",
       "<title>140586752150496</title>\n",
       "<polygon fill=\"none\" points=\"0,-146.5 0,-182.5 169,-182.5 169,-146.5 0,-146.5\" stroke=\"#000000\"/>\n",
       "<text fill=\"#000000\" font-family=\"Times,serif\" font-size=\"14.00\" text-anchor=\"middle\" x=\"84.5\" y=\"-160.8\">input_25: InputLayer</text>\n",
       "</g>\n",
       "<!-- 140586752150608 -->\n",
       "<g class=\"node\" id=\"node2\">\n",
       "<title>140586752150608</title>\n",
       "<polygon fill=\"none\" points=\"16,-73.5 16,-109.5 153,-109.5 153,-73.5 16,-73.5\" stroke=\"#000000\"/>\n",
       "<text fill=\"#000000\" font-family=\"Times,serif\" font-size=\"14.00\" text-anchor=\"middle\" x=\"84.5\" y=\"-87.8\">dense_45: Dense</text>\n",
       "</g>\n",
       "<!-- 140586752150496&#45;&gt;140586752150608 -->\n",
       "<g class=\"edge\" id=\"edge1\">\n",
       "<title>140586752150496-&gt;140586752150608</title>\n",
       "<path d=\"M84.5,-146.4551C84.5,-138.3828 84.5,-128.6764 84.5,-119.6817\" fill=\"none\" stroke=\"#000000\"/>\n",
       "<polygon fill=\"#000000\" points=\"88.0001,-119.5903 84.5,-109.5904 81.0001,-119.5904 88.0001,-119.5903\" stroke=\"#000000\"/>\n",
       "</g>\n",
       "<!-- 140588634655488 -->\n",
       "<g class=\"node\" id=\"node3\">\n",
       "<title>140588634655488</title>\n",
       "<polygon fill=\"none\" points=\"16,-.5 16,-36.5 153,-36.5 153,-.5 16,-.5\" stroke=\"#000000\"/>\n",
       "<text fill=\"#000000\" font-family=\"Times,serif\" font-size=\"14.00\" text-anchor=\"middle\" x=\"84.5\" y=\"-14.8\">dense_46: Dense</text>\n",
       "</g>\n",
       "<!-- 140586752150608&#45;&gt;140588634655488 -->\n",
       "<g class=\"edge\" id=\"edge2\">\n",
       "<title>140586752150608-&gt;140588634655488</title>\n",
       "<path d=\"M84.5,-73.4551C84.5,-65.3828 84.5,-55.6764 84.5,-46.6817\" fill=\"none\" stroke=\"#000000\"/>\n",
       "<polygon fill=\"#000000\" points=\"88.0001,-46.5903 84.5,-36.5904 81.0001,-46.5904 88.0001,-46.5903\" stroke=\"#000000\"/>\n",
       "</g>\n",
       "</g>\n",
       "</svg>"
      ],
      "text/plain": [
       "<IPython.core.display.SVG object>"
      ]
     },
     "execution_count": 127,
     "metadata": {},
     "output_type": "execute_result"
    }
   ],
   "source": [
    "from IPython.display import SVG\n",
    "from keras.utils.vis_utils import model_to_dot\n",
    "\n",
    "SVG(model_to_dot(autoencoder).create(prog='dot', format='svg'))"
   ]
  },
  {
   "cell_type": "code",
   "execution_count": 128,
   "metadata": {},
   "outputs": [
    {
     "name": "stdout",
     "output_type": "stream",
     "text": [
      "Train on 60000 samples, validate on 10000 samples\n",
      "Epoch 1/15\n",
      "60000/60000 [==============================] - 38s 638us/step - loss: 0.9031 - val_loss: 0.1647\n",
      "Epoch 2/15\n",
      "60000/60000 [==============================] - 41s 680us/step - loss: 0.1446 - val_loss: 0.1297\n",
      "Epoch 3/15\n",
      "60000/60000 [==============================] - 42s 706us/step - loss: 0.1193 - val_loss: 0.1126\n",
      "Epoch 4/15\n",
      "60000/60000 [==============================] - 42s 702us/step - loss: 0.1068 - val_loss: 0.1042\n",
      "Epoch 5/15\n",
      "60000/60000 [==============================] - 42s 703us/step - loss: 0.1007 - val_loss: 0.1001\n",
      "Epoch 6/15\n",
      "60000/60000 [==============================] - 44s 729us/step - loss: 0.0977 - val_loss: 0.0981\n",
      "Epoch 7/15\n",
      "60000/60000 [==============================] - 42s 706us/step - loss: 0.0962 - val_loss: 0.0971\n",
      "Epoch 8/15\n",
      "60000/60000 [==============================] - 32s 527us/step - loss: 0.0955 - val_loss: 0.0966\n",
      "Epoch 9/15\n",
      "60000/60000 [==============================] - 32s 528us/step - loss: 0.0951 - val_loss: 0.0965\n",
      "Epoch 10/15\n",
      "60000/60000 [==============================] - 32s 531us/step - loss: 0.0950 - val_loss: 0.0964\n",
      "Epoch 11/15\n",
      "60000/60000 [==============================] - 32s 527us/step - loss: 0.0949 - val_loss: 0.0964\n",
      "Epoch 12/15\n",
      "60000/60000 [==============================] - 32s 529us/step - loss: 0.0949 - val_loss: 0.0964\n",
      "Epoch 13/15\n",
      "60000/60000 [==============================] - 32s 527us/step - loss: 0.0949 - val_loss: 0.0964\n",
      "Epoch 14/15\n",
      "60000/60000 [==============================] - 32s 528us/step - loss: 0.0949 - val_loss: 0.0964\n",
      "Epoch 15/15\n",
      "60000/60000 [==============================] - 32s 527us/step - loss: 0.0949 - val_loss: 0.0964\n"
     ]
    }
   ],
   "source": [
    "epochs = 15\n",
    "batch_size = 128\n",
    "\n",
    "history = autoencoder.fit(X_train, X_train, batch_size=batch_size, epochs=epochs, verbose=1, validation_data=(X_test, X_test))"
   ]
  },
  {
   "cell_type": "markdown",
   "metadata": {},
   "source": [
    "### Predict on the test set"
   ]
  },
  {
   "cell_type": "code",
   "execution_count": 129,
   "metadata": {},
   "outputs": [],
   "source": [
    "decoded_imgsded_imgs = autoencoder.predict(X_test)"
   ]
  },
  {
   "cell_type": "markdown",
   "metadata": {},
   "source": [
    "### Plot"
   ]
  },
  {
   "cell_type": "code",
   "execution_count": 130,
   "metadata": {},
   "outputs": [
    {
     "data": {
      "image/png": "[encoded data removed]",
      "text/plain": [
       "<Figure size 1440x432 with 20 Axes>"
      ]
     },
     "metadata": {
      "needs_background": "light"
     },
     "output_type": "display_data"
    }
   ],
   "source": [
    "n = 10\n",
    "plt.figure(figsize=(20, 6))\n",
    "for i in range(n):\n",
    "    # display original\n",
    "    ax = plt.subplot(3, n, i+1)\n",
    "    plt.imshow(X_test[i].reshape(28, 28))\n",
    "    plt.gray()\n",
    "    ax.get_xaxis().set_visible(False)\n",
    "    ax.get_yaxis().set_visible(False)\n",
    "\n",
    "    \n",
    "    # display reconstruction\n",
    "    ax = plt.subplot(3, n, i+n+1)\n",
    "    plt.imshow(decoded_imgs[i].reshape(28, 28))\n",
    "    plt.gray()\n",
    "    ax.get_xaxis().set_visible(False)\n",
    "    ax.get_yaxis().set_visible(False)\n",
    "    \n",
    "plt.show()"
   ]
  },
  {
   "cell_type": "markdown",
   "metadata": {},
   "source": [
    "### Plot the losses"
   ]
  },
  {
   "cell_type": "code",
   "execution_count": 131,
   "metadata": {},
   "outputs": [
    {
     "name": "stdout",
     "output_type": "stream",
     "text": [
      "dict_keys(['val_loss', 'loss'])\n"
     ]
    },
    {
     "data": {
      "image/png": "[encoded data removed]",
      "text/plain": [
       "<Figure size 432x288 with 1 Axes>"
      ]
     },
     "metadata": {
      "needs_background": "light"
     },
     "output_type": "display_data"
    }
   ],
   "source": [
    "print(history.history.keys())\n",
    "\n",
    "plt.plot(history.history['loss'])\n",
    "plt.plot(history.history['val_loss'])\n",
    "plt.title('model loss')\n",
    "plt.ylabel('loss')\n",
    "plt.xlabel('epoch')\n",
    "plt.legend(['train', 'validation'], loc='upper right')\n",
    "plt.show()"
   ]
  },
  {
   "cell_type": "markdown",
   "metadata": {},
   "source": [
    "## 2. Denoising autoencoder"
   ]
  },
  {
   "cell_type": "code",
   "execution_count": 132,
   "metadata": {},
   "outputs": [],
   "source": [
    "(X_train, _), (X_test, _) = mnist.load_data()\n",
    "\n",
    "X_train = X_train.reshape(X_train.shape[0], 28, 28, 1)\n",
    "X_test = X_test.reshape(X_test.shape[0], 28, 28, 1)\n",
    "\n",
    "X_train = X_train.astype(\"float32\")/255.\n",
    "X_test = X_test.astype(\"float32\")/255."
   ]
  },
  {
   "cell_type": "markdown",
   "metadata": {},
   "source": [
    "### Create noisy data"
   ]
  },
  {
   "cell_type": "code",
   "execution_count": 133,
   "metadata": {},
   "outputs": [],
   "source": [
    "noise_factor = 0.5\n",
    "X_train_noisy = X_train + noise_factor * np.random.normal(loc=0.0, scale=1.0, size=X_train.shape) \n",
    "X_test_noisy = X_test + noise_factor * np.random.normal(loc=0.0, scale=1.0, size=X_test.shape) \n",
    "\n",
    "X_train_noisy = np.clip(X_train_noisy, 0., 1.)\n",
    "X_test_noisy = np.clip(X_test_noisy, 0., 1.)"
   ]
  },
  {
   "cell_type": "markdown",
   "metadata": {},
   "source": [
    "### Create the network"
   ]
  },
  {
   "cell_type": "code",
   "execution_count": 134,
   "metadata": {},
   "outputs": [],
   "source": [
    "\n",
    "x = Input(shape=(28, 28, 1))\n",
    "\n",
    "# Encoder\n",
    "conv1_1 = Conv2D(32, (3, 3), activation='relu', padding='same')(x)\n",
    "pool1 = MaxPooling2D((2, 2), padding='same')(conv1_1)\n",
    "conv1_2 = Conv2D(32, (3, 3), activation='relu', padding='same')(pool1)\n",
    "h = MaxPooling2D((2, 2), padding='same')(conv1_2)\n",
    "\n",
    "\n",
    "# Decoder\n",
    "conv2_1 = Conv2D(32, (3, 3), activation='relu', padding='same')(h)\n",
    "up1 = UpSampling2D((2, 2))(conv2_1)\n",
    "conv2_2 = Conv2D(32, (3, 3), activation='relu', padding='same')(up1)\n",
    "up2 = UpSampling2D((2, 2))(conv2_2)\n",
    "r = Conv2D(1, (3, 3), activation='sigmoid', padding='same')(up2)\n",
    "\n",
    "autoencoder = Model(inputs=x, outputs=r)\n",
    "autoencoder.compile(optimizer='adadelta', loss='binary_crossentropy')"
   ]
  },
  {
   "cell_type": "code",
   "execution_count": 135,
   "metadata": {},
   "outputs": [
    {
     "data": {
      "image/svg+xml": [
       "<svg height=\"702pt\" viewBox=\"0.00 0.00 277.00 702.00\" width=\"277pt\" xmlns=\"http://www.w3.org/2000/svg\" xmlns:xlink=\"http://www.w3.org/1999/xlink\">\n",
       "<g class=\"graph\" id=\"graph0\" transform=\"scale(1 1) rotate(0) translate(4 698)\">\n",
       "<title>G</title>\n",
       "<polygon fill=\"#ffffff\" points=\"-4,4 -4,-698 273,-698 273,4 -4,4\" stroke=\"transparent\"/>\n",
       "<!-- 140586405429880 -->\n",
       "<g class=\"node\" id=\"node1\">\n",
       "<title>140586405429880</title>\n",
       "<polygon fill=\"none\" points=\"50,-657.5 50,-693.5 219,-693.5 219,-657.5 50,-657.5\" stroke=\"#000000\"/>\n",
       "<text fill=\"#000000\" font-family=\"Times,serif\" font-size=\"14.00\" text-anchor=\"middle\" x=\"134.5\" y=\"-671.8\">input_26: InputLayer</text>\n",
       "</g>\n",
       "<!-- 140586405429936 -->\n",
       "<g class=\"node\" id=\"node2\">\n",
       "<title>140586405429936</title>\n",
       "<polygon fill=\"none\" points=\"54.5,-584.5 54.5,-620.5 214.5,-620.5 214.5,-584.5 54.5,-584.5\" stroke=\"#000000\"/>\n",
       "<text fill=\"#000000\" font-family=\"Times,serif\" font-size=\"14.00\" text-anchor=\"middle\" x=\"134.5\" y=\"-598.8\">conv2d_20: Conv2D</text>\n",
       "</g>\n",
       "<!-- 140586405429880&#45;&gt;140586405429936 -->\n",
       "<g class=\"edge\" id=\"edge1\">\n",
       "<title>140586405429880-&gt;140586405429936</title>\n",
       "<path d=\"M134.5,-657.4551C134.5,-649.3828 134.5,-639.6764 134.5,-630.6817\" fill=\"none\" stroke=\"#000000\"/>\n",
       "<polygon fill=\"#000000\" points=\"138.0001,-630.5903 134.5,-620.5904 131.0001,-630.5904 138.0001,-630.5903\" stroke=\"#000000\"/>\n",
       "</g>\n",
       "<!-- 140586925095456 -->\n",
       "<g class=\"node\" id=\"node3\">\n",
       "<title>140586925095456</title>\n",
       "<polygon fill=\"none\" points=\"7.5,-511.5 7.5,-547.5 261.5,-547.5 261.5,-511.5 7.5,-511.5\" stroke=\"#000000\"/>\n",
       "<text fill=\"#000000\" font-family=\"Times,serif\" font-size=\"14.00\" text-anchor=\"middle\" x=\"134.5\" y=\"-525.8\">max_pooling2d_9: MaxPooling2D</text>\n",
       "</g>\n",
       "<!-- 140586405429936&#45;&gt;140586925095456 -->\n",
       "<g class=\"edge\" id=\"edge2\">\n",
       "<title>140586405429936-&gt;140586925095456</title>\n",
       "<path d=\"M134.5,-584.4551C134.5,-576.3828 134.5,-566.6764 134.5,-557.6817\" fill=\"none\" stroke=\"#000000\"/>\n",
       "<polygon fill=\"#000000\" points=\"138.0001,-557.5903 134.5,-547.5904 131.0001,-557.5904 138.0001,-557.5903\" stroke=\"#000000\"/>\n",
       "</g>\n",
       "<!-- 140586405792624 -->\n",
       "<g class=\"node\" id=\"node4\">\n",
       "<title>140586405792624</title>\n",
       "<polygon fill=\"none\" points=\"54.5,-438.5 54.5,-474.5 214.5,-474.5 214.5,-438.5 54.5,-438.5\" stroke=\"#000000\"/>\n",
       "<text fill=\"#000000\" font-family=\"Times,serif\" font-size=\"14.00\" text-anchor=\"middle\" x=\"134.5\" y=\"-452.8\">conv2d_21: Conv2D</text>\n",
       "</g>\n",
       "<!-- 140586925095456&#45;&gt;140586405792624 -->\n",
       "<g class=\"edge\" id=\"edge3\">\n",
       "<title>140586925095456-&gt;140586405792624</title>\n",
       "<path d=\"M134.5,-511.4551C134.5,-503.3828 134.5,-493.6764 134.5,-484.6817\" fill=\"none\" stroke=\"#000000\"/>\n",
       "<polygon fill=\"#000000\" points=\"138.0001,-484.5903 134.5,-474.5904 131.0001,-484.5904 138.0001,-484.5903\" stroke=\"#000000\"/>\n",
       "</g>\n",
       "<!-- 140588645835888 -->\n",
       "<g class=\"node\" id=\"node5\">\n",
       "<title>140588645835888</title>\n",
       "<polygon fill=\"none\" points=\"3,-365.5 3,-401.5 266,-401.5 266,-365.5 3,-365.5\" stroke=\"#000000\"/>\n",
       "<text fill=\"#000000\" font-family=\"Times,serif\" font-size=\"14.00\" text-anchor=\"middle\" x=\"134.5\" y=\"-379.8\">max_pooling2d_10: MaxPooling2D</text>\n",
       "</g>\n",
       "<!-- 140586405792624&#45;&gt;140588645835888 -->\n",
       "<g class=\"edge\" id=\"edge4\">\n",
       "<title>140586405792624-&gt;140588645835888</title>\n",
       "<path d=\"M134.5,-438.4551C134.5,-430.3828 134.5,-420.6764 134.5,-411.6817\" fill=\"none\" stroke=\"#000000\"/>\n",
       "<polygon fill=\"#000000\" points=\"138.0001,-411.5903 134.5,-401.5904 131.0001,-411.5904 138.0001,-411.5903\" stroke=\"#000000\"/>\n",
       "</g>\n",
       "<!-- 140586405589400 -->\n",
       "<g class=\"node\" id=\"node6\">\n",
       "<title>140586405589400</title>\n",
       "<polygon fill=\"none\" points=\"54.5,-292.5 54.5,-328.5 214.5,-328.5 214.5,-292.5 54.5,-292.5\" stroke=\"#000000\"/>\n",
       "<text fill=\"#000000\" font-family=\"Times,serif\" font-size=\"14.00\" text-anchor=\"middle\" x=\"134.5\" y=\"-306.8\">conv2d_22: Conv2D</text>\n",
       "</g>\n",
       "<!-- 140588645835888&#45;&gt;140586405589400 -->\n",
       "<g class=\"edge\" id=\"edge5\">\n",
       "<title>140588645835888-&gt;140586405589400</title>\n",
       "<path d=\"M134.5,-365.4551C134.5,-357.3828 134.5,-347.6764 134.5,-338.6817\" fill=\"none\" stroke=\"#000000\"/>\n",
       "<polygon fill=\"#000000\" points=\"138.0001,-338.5903 134.5,-328.5904 131.0001,-338.5904 138.0001,-338.5903\" stroke=\"#000000\"/>\n",
       "</g>\n",
       "<!-- 140586405190176 -->\n",
       "<g class=\"node\" id=\"node7\">\n",
       "<title>140586405190176</title>\n",
       "<polygon fill=\"none\" points=\"4.5,-219.5 4.5,-255.5 264.5,-255.5 264.5,-219.5 4.5,-219.5\" stroke=\"#000000\"/>\n",
       "<text fill=\"#000000\" font-family=\"Times,serif\" font-size=\"14.00\" text-anchor=\"middle\" x=\"134.5\" y=\"-233.8\">up_sampling2d_9: UpSampling2D</text>\n",
       "</g>\n",
       "<!-- 140586405589400&#45;&gt;140586405190176 -->\n",
       "<g class=\"edge\" id=\"edge6\">\n",
       "<title>140586405589400-&gt;140586405190176</title>\n",
       "<path d=\"M134.5,-292.4551C134.5,-284.3828 134.5,-274.6764 134.5,-265.6817\" fill=\"none\" stroke=\"#000000\"/>\n",
       "<polygon fill=\"#000000\" points=\"138.0001,-265.5903 134.5,-255.5904 131.0001,-265.5904 138.0001,-265.5903\" stroke=\"#000000\"/>\n",
       "</g>\n",
       "<!-- 140586405189224 -->\n",
       "<g class=\"node\" id=\"node8\">\n",
       "<title>140586405189224</title>\n",
       "<polygon fill=\"none\" points=\"54.5,-146.5 54.5,-182.5 214.5,-182.5 214.5,-146.5 54.5,-146.5\" stroke=\"#000000\"/>\n",
       "<text fill=\"#000000\" font-family=\"Times,serif\" font-size=\"14.00\" text-anchor=\"middle\" x=\"134.5\" y=\"-160.8\">conv2d_23: Conv2D</text>\n",
       "</g>\n",
       "<!-- 140586405190176&#45;&gt;140586405189224 -->\n",
       "<g class=\"edge\" id=\"edge7\">\n",
       "<title>140586405190176-&gt;140586405189224</title>\n",
       "<path d=\"M134.5,-219.4551C134.5,-211.3828 134.5,-201.6764 134.5,-192.6817\" fill=\"none\" stroke=\"#000000\"/>\n",
       "<polygon fill=\"#000000\" points=\"138.0001,-192.5903 134.5,-182.5904 131.0001,-192.5904 138.0001,-192.5903\" stroke=\"#000000\"/>\n",
       "</g>\n",
       "<!-- 140586405290672 -->\n",
       "<g class=\"node\" id=\"node9\">\n",
       "<title>140586405290672</title>\n",
       "<polygon fill=\"none\" points=\"0,-73.5 0,-109.5 269,-109.5 269,-73.5 0,-73.5\" stroke=\"#000000\"/>\n",
       "<text fill=\"#000000\" font-family=\"Times,serif\" font-size=\"14.00\" text-anchor=\"middle\" x=\"134.5\" y=\"-87.8\">up_sampling2d_10: UpSampling2D</text>\n",
       "</g>\n",
       "<!-- 140586405189224&#45;&gt;140586405290672 -->\n",
       "<g class=\"edge\" id=\"edge8\">\n",
       "<title>140586405189224-&gt;140586405290672</title>\n",
       "<path d=\"M134.5,-146.4551C134.5,-138.3828 134.5,-128.6764 134.5,-119.6817\" fill=\"none\" stroke=\"#000000\"/>\n",
       "<polygon fill=\"#000000\" points=\"138.0001,-119.5903 134.5,-109.5904 131.0001,-119.5904 138.0001,-119.5903\" stroke=\"#000000\"/>\n",
       "</g>\n",
       "<!-- 140586405377248 -->\n",
       "<g class=\"node\" id=\"node10\">\n",
       "<title>140586405377248</title>\n",
       "<polygon fill=\"none\" points=\"54.5,-.5 54.5,-36.5 214.5,-36.5 214.5,-.5 54.5,-.5\" stroke=\"#000000\"/>\n",
       "<text fill=\"#000000\" font-family=\"Times,serif\" font-size=\"14.00\" text-anchor=\"middle\" x=\"134.5\" y=\"-14.8\">conv2d_24: Conv2D</text>\n",
       "</g>\n",
       "<!-- 140586405290672&#45;&gt;140586405377248 -->\n",
       "<g class=\"edge\" id=\"edge9\">\n",
       "<title>140586405290672-&gt;140586405377248</title>\n",
       "<path d=\"M134.5,-73.4551C134.5,-65.3828 134.5,-55.6764 134.5,-46.6817\" fill=\"none\" stroke=\"#000000\"/>\n",
       "<polygon fill=\"#000000\" points=\"138.0001,-46.5903 134.5,-36.5904 131.0001,-46.5904 138.0001,-46.5903\" stroke=\"#000000\"/>\n",
       "</g>\n",
       "</g>\n",
       "</svg>"
      ],
      "text/plain": [
       "<IPython.core.display.SVG object>"
      ]
     },
     "execution_count": 135,
     "metadata": {},
     "output_type": "execute_result"
    }
   ],
   "source": [
    "from IPython.display import SVG\n",
    "from keras.utils.vis_utils import model_to_dot\n",
    "\n",
    "SVG(model_to_dot(autoencoder).create(prog='dot', format='svg'))"
   ]
  },
  {
   "cell_type": "code",
   "execution_count": 136,
   "metadata": {},
   "outputs": [
    {
     "name": "stdout",
     "output_type": "stream",
     "text": [
      "Train on 60000 samples, validate on 10000 samples\n",
      "Epoch 1/3\n",
      "60000/60000 [==============================] - 77s 1ms/step - loss: 0.1733 - val_loss: 0.1241\n",
      "Epoch 2/3\n",
      "60000/60000 [==============================] - 56s 941us/step - loss: 0.1193 - val_loss: 0.1134\n",
      "Epoch 3/3\n",
      "60000/60000 [==============================] - 60s 998us/step - loss: 0.1114 - val_loss: 0.1090\n"
     ]
    }
   ],
   "source": [
    "epochs = 3\n",
    "batch_size = 128\n",
    "\n",
    "history = autoencoder.fit(X_train_noisy, X_train, batch_size=batch_size, epochs=epochs, verbose=1, validation_data=(X_test_noisy, X_test))"
   ]
  },
  {
   "cell_type": "code",
   "execution_count": 137,
   "metadata": {},
   "outputs": [],
   "source": [
    "decoded_imgs = autoencoder.predict(X_test_noisy)"
   ]
  },
  {
   "cell_type": "markdown",
   "metadata": {},
   "source": [
    "### Plot"
   ]
  },
  {
   "cell_type": "code",
   "execution_count": 138,
   "metadata": {},
   "outputs": [
    {
     "data": {
      "image/png": "[encoded data removed]",
      "text/plain": [
       "<Figure size 1440x432 with 20 Axes>"
      ]
     },
     "metadata": {
      "needs_background": "light"
     },
     "output_type": "display_data"
    }
   ],
   "source": [
    "n = 10\n",
    "plt.figure(figsize=(20, 6))\n",
    "for i in range(n):\n",
    "    # display original\n",
    "    ax = plt.subplot(3, n, i+1)\n",
    "    plt.imshow(X_test_noisy[i].reshape(28, 28))\n",
    "    plt.gray()\n",
    "    ax.get_xaxis().set_visible(False)\n",
    "    ax.get_yaxis().set_visible(False)\n",
    "\n",
    "    \n",
    "    # display reconstruction\n",
    "    ax = plt.subplot(3, n, i+n+1)\n",
    "    plt.imshow(decoded_imgs[i].reshape(28, 28))\n",
    "    plt.gray()\n",
    "    ax.get_xaxis().set_visible(False)\n",
    "    ax.get_yaxis().set_visible(False)\n",
    "    \n",
    "plt.show()"
   ]
  },
  {
   "cell_type": "markdown",
   "metadata": {},
   "source": [
    "### Plot the losses"
   ]
  },
  {
   "cell_type": "code",
   "execution_count": 103,
   "metadata": {},
   "outputs": [
    {
     "name": "stdout",
     "output_type": "stream",
     "text": [
      "dict_keys(['val_loss', 'loss'])\n"
     ]
    },
    {
     "data": {
      "image/png": "[encoded data removed]",
      "text/plain": [
       "<Figure size 432x288 with 1 Axes>"
      ]
     },
     "metadata": {
      "needs_background": "light"
     },
     "output_type": "display_data"
    }
   ],
   "source": [
    "print(history.history.keys())\n",
    "\n",
    "plt.plot(history.history['loss'])\n",
    "plt.plot(history.history['val_loss'])\n",
    "plt.title('model loss')\n",
    "plt.ylabel('loss')\n",
    "plt.xlabel('epoch')\n",
    "plt.legend(['train', 'validation'], loc='upper right')\n",
    "plt.show()"
   ]
  },
  {
   "cell_type": "markdown",
   "metadata": {},
   "source": [
    "# Convolution autoencoder"
   ]
  },
  {
   "cell_type": "code",
   "execution_count": 85,
   "metadata": {},
   "outputs": [],
   "source": [
    "nb_classes = 10\n",
    "(X_train, y_train), (X_test, y_test) = mnist.load_data()"
   ]
  },
  {
   "cell_type": "code",
   "execution_count": 86,
   "metadata": {},
   "outputs": [
    {
     "name": "stdout",
     "output_type": "stream",
     "text": [
      "X_train shape: (60000, 28, 28, 1)\n",
      "60000 train samples\n",
      "10000 test samples\n"
     ]
    }
   ],
   "source": [
    "X_train = X_train.reshape(X_train.shape[0], 28, 28, 1)\n",
    "X_test = X_test.reshape(X_test.shape[0], 28, 28, 1)\n",
    "X_train = X_train.astype(\"float32\")/255.\n",
    "X_test = X_test.astype(\"float32\")/255.\n",
    "print('X_train shape:', X_train.shape)\n",
    "print(X_train.shape[0], 'train samples')\n",
    "print(X_test.shape[0], 'test samples')\n",
    "\n",
    "y_train = np_utils.to_categorical(y_train, nb_classes)\n",
    "y_test = np_utils.to_categorical(y_test, nb_classes)"
   ]
  },
  {
   "cell_type": "markdown",
   "metadata": {},
   "source": [
    "## Create the network"
   ]
  },
  {
   "cell_type": "markdown",
   "metadata": {},
   "source": [
    "the network does not take flattened vectors as an input but images"
   ]
  },
  {
   "cell_type": "code",
   "execution_count": 87,
   "metadata": {},
   "outputs": [],
   "source": [
    "x = Input(shape=(28, 28,1)) \n",
    "\n",
    "# Encoder\n",
    "conv1_1 = Conv2D(16, (3, 3), activation='relu', padding='same')(x)\n",
    "pool1 = MaxPooling2D((2, 2), padding='same')(conv1_1)\n",
    "conv1_2 = Conv2D(8, (3, 3), activation='relu', padding='same')(pool1)\n",
    "pool2 = MaxPooling2D((2, 2), padding='same')(conv1_2)\n",
    "conv1_3 = Conv2D(8, (3, 3), activation='relu', padding='same')(pool2)\n",
    "h = MaxPooling2D((2, 2), padding='same')(conv1_3)\n",
    "\n",
    "\n",
    "# Decoder\n",
    "conv2_1 = Conv2D(8, (3, 3), activation='relu', padding='same')(h)\n",
    "up1 = UpSampling2D((2, 2))(conv2_1)\n",
    "conv2_2 = Conv2D(8, (3, 3), activation='relu', padding='same')(up1)\n",
    "up2 = UpSampling2D((2, 2))(conv2_2)\n",
    "conv2_3 = Conv2D(16, (3, 3), activation='relu')(up2)\n",
    "up3 = UpSampling2D((2, 2))(conv2_3)\n",
    "r = Conv2D(1, (3, 3), activation='sigmoid', padding='same')(up3)\n",
    "\n",
    "autoencoder = Model(inputs=x, outputs=r)\n",
    "autoencoder.compile(optimizer='adadelta', loss='binary_crossentropy')"
   ]
  },
  {
   "cell_type": "code",
   "execution_count": 88,
   "metadata": {},
   "outputs": [
    {
     "data": {
      "image/svg+xml": [
       "<svg height=\"994pt\" viewBox=\"0.00 0.00 268.00 994.00\" width=\"268pt\" xmlns=\"http://www.w3.org/2000/svg\" xmlns:xlink=\"http://www.w3.org/1999/xlink\">\n",
       "<g class=\"graph\" id=\"graph0\" transform=\"scale(1 1) rotate(0) translate(4 990)\">\n",
       "<title>G</title>\n",
       "<polygon fill=\"#ffffff\" points=\"-4,4 -4,-990 264,-990 264,4 -4,4\" stroke=\"transparent\"/>\n",
       "<!-- 140587300271328 -->\n",
       "<g class=\"node\" id=\"node1\">\n",
       "<title>140587300271328</title>\n",
       "<polygon fill=\"none\" points=\"45.5,-949.5 45.5,-985.5 214.5,-985.5 214.5,-949.5 45.5,-949.5\" stroke=\"#000000\"/>\n",
       "<text fill=\"#000000\" font-family=\"Times,serif\" font-size=\"14.00\" text-anchor=\"middle\" x=\"130\" y=\"-963.8\">input_18: InputLayer</text>\n",
       "</g>\n",
       "<!-- 140587300270264 -->\n",
       "<g class=\"node\" id=\"node2\">\n",
       "<title>140587300270264</title>\n",
       "<polygon fill=\"none\" points=\"54.5,-876.5 54.5,-912.5 205.5,-912.5 205.5,-876.5 54.5,-876.5\" stroke=\"#000000\"/>\n",
       "<text fill=\"#000000\" font-family=\"Times,serif\" font-size=\"14.00\" text-anchor=\"middle\" x=\"130\" y=\"-890.8\">conv2d_8: Conv2D</text>\n",
       "</g>\n",
       "<!-- 140587300271328&#45;&gt;140587300270264 -->\n",
       "<g class=\"edge\" id=\"edge1\">\n",
       "<title>140587300271328-&gt;140587300270264</title>\n",
       "<path d=\"M130,-949.4551C130,-941.3828 130,-931.6764 130,-922.6817\" fill=\"none\" stroke=\"#000000\"/>\n",
       "<polygon fill=\"#000000\" points=\"133.5001,-922.5903 130,-912.5904 126.5001,-922.5904 133.5001,-922.5903\" stroke=\"#000000\"/>\n",
       "</g>\n",
       "<!-- 140587300274128 -->\n",
       "<g class=\"node\" id=\"node3\">\n",
       "<title>140587300274128</title>\n",
       "<polygon fill=\"none\" points=\"3,-803.5 3,-839.5 257,-839.5 257,-803.5 3,-803.5\" stroke=\"#000000\"/>\n",
       "<text fill=\"#000000\" font-family=\"Times,serif\" font-size=\"14.00\" text-anchor=\"middle\" x=\"130\" y=\"-817.8\">max_pooling2d_4: MaxPooling2D</text>\n",
       "</g>\n",
       "<!-- 140587300270264&#45;&gt;140587300274128 -->\n",
       "<g class=\"edge\" id=\"edge2\">\n",
       "<title>140587300270264-&gt;140587300274128</title>\n",
       "<path d=\"M130,-876.4551C130,-868.3828 130,-858.6764 130,-849.6817\" fill=\"none\" stroke=\"#000000\"/>\n",
       "<polygon fill=\"#000000\" points=\"133.5001,-849.5903 130,-839.5904 126.5001,-849.5904 133.5001,-849.5903\" stroke=\"#000000\"/>\n",
       "</g>\n",
       "<!-- 140586924915288 -->\n",
       "<g class=\"node\" id=\"node4\">\n",
       "<title>140586924915288</title>\n",
       "<polygon fill=\"none\" points=\"54.5,-730.5 54.5,-766.5 205.5,-766.5 205.5,-730.5 54.5,-730.5\" stroke=\"#000000\"/>\n",
       "<text fill=\"#000000\" font-family=\"Times,serif\" font-size=\"14.00\" text-anchor=\"middle\" x=\"130\" y=\"-744.8\">conv2d_9: Conv2D</text>\n",
       "</g>\n",
       "<!-- 140587300274128&#45;&gt;140586924915288 -->\n",
       "<g class=\"edge\" id=\"edge3\">\n",
       "<title>140587300274128-&gt;140586924915288</title>\n",
       "<path d=\"M130,-803.4551C130,-795.3828 130,-785.6764 130,-776.6817\" fill=\"none\" stroke=\"#000000\"/>\n",
       "<polygon fill=\"#000000\" points=\"133.5001,-776.5903 130,-766.5904 126.5001,-776.5904 133.5001,-776.5903\" stroke=\"#000000\"/>\n",
       "</g>\n",
       "<!-- 140587300371648 -->\n",
       "<g class=\"node\" id=\"node5\">\n",
       "<title>140587300371648</title>\n",
       "<polygon fill=\"none\" points=\"3,-657.5 3,-693.5 257,-693.5 257,-657.5 3,-657.5\" stroke=\"#000000\"/>\n",
       "<text fill=\"#000000\" font-family=\"Times,serif\" font-size=\"14.00\" text-anchor=\"middle\" x=\"130\" y=\"-671.8\">max_pooling2d_5: MaxPooling2D</text>\n",
       "</g>\n",
       "<!-- 140586924915288&#45;&gt;140587300371648 -->\n",
       "<g class=\"edge\" id=\"edge4\">\n",
       "<title>140586924915288-&gt;140587300371648</title>\n",
       "<path d=\"M130,-730.4551C130,-722.3828 130,-712.6764 130,-703.6817\" fill=\"none\" stroke=\"#000000\"/>\n",
       "<polygon fill=\"#000000\" points=\"133.5001,-703.5903 130,-693.5904 126.5001,-703.5904 133.5001,-703.5903\" stroke=\"#000000\"/>\n",
       "</g>\n",
       "<!-- 140587300369520 -->\n",
       "<g class=\"node\" id=\"node6\">\n",
       "<title>140587300369520</title>\n",
       "<polygon fill=\"none\" points=\"50,-584.5 50,-620.5 210,-620.5 210,-584.5 50,-584.5\" stroke=\"#000000\"/>\n",
       "<text fill=\"#000000\" font-family=\"Times,serif\" font-size=\"14.00\" text-anchor=\"middle\" x=\"130\" y=\"-598.8\">conv2d_10: Conv2D</text>\n",
       "</g>\n",
       "<!-- 140587300371648&#45;&gt;140587300369520 -->\n",
       "<g class=\"edge\" id=\"edge5\">\n",
       "<title>140587300371648-&gt;140587300369520</title>\n",
       "<path d=\"M130,-657.4551C130,-649.3828 130,-639.6764 130,-630.6817\" fill=\"none\" stroke=\"#000000\"/>\n",
       "<polygon fill=\"#000000\" points=\"133.5001,-630.5903 130,-620.5904 126.5001,-630.5904 133.5001,-630.5903\" stroke=\"#000000\"/>\n",
       "</g>\n",
       "<!-- 140586926126192 -->\n",
       "<g class=\"node\" id=\"node7\">\n",
       "<title>140586926126192</title>\n",
       "<polygon fill=\"none\" points=\"3,-511.5 3,-547.5 257,-547.5 257,-511.5 3,-511.5\" stroke=\"#000000\"/>\n",
       "<text fill=\"#000000\" font-family=\"Times,serif\" font-size=\"14.00\" text-anchor=\"middle\" x=\"130\" y=\"-525.8\">max_pooling2d_6: MaxPooling2D</text>\n",
       "</g>\n",
       "<!-- 140587300369520&#45;&gt;140586926126192 -->\n",
       "<g class=\"edge\" id=\"edge6\">\n",
       "<title>140587300369520-&gt;140586926126192</title>\n",
       "<path d=\"M130,-584.4551C130,-576.3828 130,-566.6764 130,-557.6817\" fill=\"none\" stroke=\"#000000\"/>\n",
       "<polygon fill=\"#000000\" points=\"133.5001,-557.5903 130,-547.5904 126.5001,-557.5904 133.5001,-557.5903\" stroke=\"#000000\"/>\n",
       "</g>\n",
       "<!-- 140588622858616 -->\n",
       "<g class=\"node\" id=\"node8\">\n",
       "<title>140588622858616</title>\n",
       "<polygon fill=\"none\" points=\"50,-438.5 50,-474.5 210,-474.5 210,-438.5 50,-438.5\" stroke=\"#000000\"/>\n",
       "<text fill=\"#000000\" font-family=\"Times,serif\" font-size=\"14.00\" text-anchor=\"middle\" x=\"130\" y=\"-452.8\">conv2d_11: Conv2D</text>\n",
       "</g>\n",
       "<!-- 140586926126192&#45;&gt;140588622858616 -->\n",
       "<g class=\"edge\" id=\"edge7\">\n",
       "<title>140586926126192-&gt;140588622858616</title>\n",
       "<path d=\"M130,-511.4551C130,-503.3828 130,-493.6764 130,-484.6817\" fill=\"none\" stroke=\"#000000\"/>\n",
       "<polygon fill=\"#000000\" points=\"133.5001,-484.5903 130,-474.5904 126.5001,-484.5904 133.5001,-484.5903\" stroke=\"#000000\"/>\n",
       "</g>\n",
       "<!-- 140586923306568 -->\n",
       "<g class=\"node\" id=\"node9\">\n",
       "<title>140586923306568</title>\n",
       "<polygon fill=\"none\" points=\"0,-365.5 0,-401.5 260,-401.5 260,-365.5 0,-365.5\" stroke=\"#000000\"/>\n",
       "<text fill=\"#000000\" font-family=\"Times,serif\" font-size=\"14.00\" text-anchor=\"middle\" x=\"130\" y=\"-379.8\">up_sampling2d_4: UpSampling2D</text>\n",
       "</g>\n",
       "<!-- 140588622858616&#45;&gt;140586923306568 -->\n",
       "<g class=\"edge\" id=\"edge8\">\n",
       "<title>140588622858616-&gt;140586923306568</title>\n",
       "<path d=\"M130,-438.4551C130,-430.3828 130,-420.6764 130,-411.6817\" fill=\"none\" stroke=\"#000000\"/>\n",
       "<polygon fill=\"#000000\" points=\"133.5001,-411.5903 130,-401.5904 126.5001,-411.5904 133.5001,-411.5903\" stroke=\"#000000\"/>\n",
       "</g>\n",
       "<!-- 140586923304776 -->\n",
       "<g class=\"node\" id=\"node10\">\n",
       "<title>140586923304776</title>\n",
       "<polygon fill=\"none\" points=\"50,-292.5 50,-328.5 210,-328.5 210,-292.5 50,-292.5\" stroke=\"#000000\"/>\n",
       "<text fill=\"#000000\" font-family=\"Times,serif\" font-size=\"14.00\" text-anchor=\"middle\" x=\"130\" y=\"-306.8\">conv2d_12: Conv2D</text>\n",
       "</g>\n",
       "<!-- 140586923306568&#45;&gt;140586923304776 -->\n",
       "<g class=\"edge\" id=\"edge9\">\n",
       "<title>140586923306568-&gt;140586923304776</title>\n",
       "<path d=\"M130,-365.4551C130,-357.3828 130,-347.6764 130,-338.6817\" fill=\"none\" stroke=\"#000000\"/>\n",
       "<polygon fill=\"#000000\" points=\"133.5001,-338.5903 130,-328.5904 126.5001,-338.5904 133.5001,-338.5903\" stroke=\"#000000\"/>\n",
       "</g>\n",
       "<!-- 140588663144176 -->\n",
       "<g class=\"node\" id=\"node11\">\n",
       "<title>140588663144176</title>\n",
       "<polygon fill=\"none\" points=\"0,-219.5 0,-255.5 260,-255.5 260,-219.5 0,-219.5\" stroke=\"#000000\"/>\n",
       "<text fill=\"#000000\" font-family=\"Times,serif\" font-size=\"14.00\" text-anchor=\"middle\" x=\"130\" y=\"-233.8\">up_sampling2d_5: UpSampling2D</text>\n",
       "</g>\n",
       "<!-- 140586923304776&#45;&gt;140588663144176 -->\n",
       "<g class=\"edge\" id=\"edge10\">\n",
       "<title>140586923304776-&gt;140588663144176</title>\n",
       "<path d=\"M130,-292.4551C130,-284.3828 130,-274.6764 130,-265.6817\" fill=\"none\" stroke=\"#000000\"/>\n",
       "<polygon fill=\"#000000\" points=\"133.5001,-265.5903 130,-255.5904 126.5001,-265.5904 133.5001,-265.5903\" stroke=\"#000000\"/>\n",
       "</g>\n",
       "<!-- 140587302445352 -->\n",
       "<g class=\"node\" id=\"node12\">\n",
       "<title>140587302445352</title>\n",
       "<polygon fill=\"none\" points=\"50,-146.5 50,-182.5 210,-182.5 210,-146.5 50,-146.5\" stroke=\"#000000\"/>\n",
       "<text fill=\"#000000\" font-family=\"Times,serif\" font-size=\"14.00\" text-anchor=\"middle\" x=\"130\" y=\"-160.8\">conv2d_13: Conv2D</text>\n",
       "</g>\n",
       "<!-- 140588663144176&#45;&gt;140587302445352 -->\n",
       "<g class=\"edge\" id=\"edge11\">\n",
       "<title>140588663144176-&gt;140587302445352</title>\n",
       "<path d=\"M130,-219.4551C130,-211.3828 130,-201.6764 130,-192.6817\" fill=\"none\" stroke=\"#000000\"/>\n",
       "<polygon fill=\"#000000\" points=\"133.5001,-192.5903 130,-182.5904 126.5001,-192.5904 133.5001,-192.5903\" stroke=\"#000000\"/>\n",
       "</g>\n",
       "<!-- 140587302448040 -->\n",
       "<g class=\"node\" id=\"node13\">\n",
       "<title>140587302448040</title>\n",
       "<polygon fill=\"none\" points=\"0,-73.5 0,-109.5 260,-109.5 260,-73.5 0,-73.5\" stroke=\"#000000\"/>\n",
       "<text fill=\"#000000\" font-family=\"Times,serif\" font-size=\"14.00\" text-anchor=\"middle\" x=\"130\" y=\"-87.8\">up_sampling2d_6: UpSampling2D</text>\n",
       "</g>\n",
       "<!-- 140587302445352&#45;&gt;140587302448040 -->\n",
       "<g class=\"edge\" id=\"edge12\">\n",
       "<title>140587302445352-&gt;140587302448040</title>\n",
       "<path d=\"M130,-146.4551C130,-138.3828 130,-128.6764 130,-119.6817\" fill=\"none\" stroke=\"#000000\"/>\n",
       "<polygon fill=\"#000000\" points=\"133.5001,-119.5903 130,-109.5904 126.5001,-119.5904 133.5001,-119.5903\" stroke=\"#000000\"/>\n",
       "</g>\n",
       "<!-- 140588622817712 -->\n",
       "<g class=\"node\" id=\"node14\">\n",
       "<title>140588622817712</title>\n",
       "<polygon fill=\"none\" points=\"50,-.5 50,-36.5 210,-36.5 210,-.5 50,-.5\" stroke=\"#000000\"/>\n",
       "<text fill=\"#000000\" font-family=\"Times,serif\" font-size=\"14.00\" text-anchor=\"middle\" x=\"130\" y=\"-14.8\">conv2d_14: Conv2D</text>\n",
       "</g>\n",
       "<!-- 140587302448040&#45;&gt;140588622817712 -->\n",
       "<g class=\"edge\" id=\"edge13\">\n",
       "<title>140587302448040-&gt;140588622817712</title>\n",
       "<path d=\"M130,-73.4551C130,-65.3828 130,-55.6764 130,-46.6817\" fill=\"none\" stroke=\"#000000\"/>\n",
       "<polygon fill=\"#000000\" points=\"133.5001,-46.5903 130,-36.5904 126.5001,-46.5904 133.5001,-46.5903\" stroke=\"#000000\"/>\n",
       "</g>\n",
       "</g>\n",
       "</svg>"
      ],
      "text/plain": [
       "<IPython.core.display.SVG object>"
      ]
     },
     "execution_count": 88,
     "metadata": {},
     "output_type": "execute_result"
    }
   ],
   "source": [
    "from IPython.display import SVG\n",
    "from keras.utils.vis_utils import model_to_dot\n",
    "\n",
    "SVG(model_to_dot(autoencoder).create(prog='dot', format='svg'))"
   ]
  },
  {
   "cell_type": "markdown",
   "metadata": {},
   "source": [
    "## Train"
   ]
  },
  {
   "cell_type": "code",
   "execution_count": 89,
   "metadata": {},
   "outputs": [
    {
     "name": "stdout",
     "output_type": "stream",
     "text": [
      "Train on 60000 samples, validate on 10000 samples\n",
      "Epoch 1/3\n",
      "60000/60000 [==============================] - 40s 659us/step - loss: 0.2195 - val_loss: 0.1683\n",
      "Epoch 2/3\n",
      "60000/60000 [==============================] - 38s 640us/step - loss: 0.1549 - val_loss: 0.1466\n",
      "Epoch 3/3\n",
      "60000/60000 [==============================] - 40s 667us/step - loss: 0.1396 - val_loss: 0.1317\n"
     ]
    }
   ],
   "source": [
    "epochs = 3\n",
    "batch_size = 128\n",
    "\n",
    "history = autoencoder.fit(X_train, X_train, batch_size=batch_size, epochs=epochs, verbose=1, validation_data=(X_test, X_test))"
   ]
  },
  {
   "cell_type": "code",
   "execution_count": 93,
   "metadata": {},
   "outputs": [],
   "source": [
    "decoded_imgs = autoencoder.predict(X_test)"
   ]
  },
  {
   "cell_type": "markdown",
   "metadata": {},
   "source": [
    "## Plot"
   ]
  },
  {
   "cell_type": "code",
   "execution_count": 94,
   "metadata": {},
   "outputs": [
    {
     "data": {
      "image/png": "[encoded data removed]",
      "text/plain": [
       "<Figure size 1440x432 with 20 Axes>"
      ]
     },
     "metadata": {
      "needs_background": "light"
     },
     "output_type": "display_data"
    }
   ],
   "source": [
    "n = 10\n",
    "plt.figure(figsize=(20, 6))\n",
    "for i in range(n):\n",
    "    # display original\n",
    "    ax = plt.subplot(3, n, i+1)\n",
    "    plt.imshow(X_test[i].reshape(28, 28))\n",
    "    plt.gray()\n",
    "    ax.get_xaxis().set_visible(False)\n",
    "    ax.get_yaxis().set_visible(False)\n",
    "\n",
    "    \n",
    "    # display reconstruction\n",
    "    ax = plt.subplot(3, n, i+n+1)\n",
    "    plt.imshow(decoded_imgs[i].reshape(28, 28))\n",
    "    plt.gray()\n",
    "    ax.get_xaxis().set_visible(False)\n",
    "    ax.get_yaxis().set_visible(False)\n",
    "    \n",
    "plt.show()"
   ]
  },
  {
   "cell_type": "markdown",
   "metadata": {},
   "source": [
    "## Plot the losses"
   ]
  },
  {
   "cell_type": "code",
   "execution_count": 95,
   "metadata": {},
   "outputs": [
    {
     "name": "stdout",
     "output_type": "stream",
     "text": [
      "dict_keys(['val_loss', 'loss'])\n"
     ]
    },
    {
     "data": {
      "image/png": "[encoded data removed]",
      "text/plain": [
       "<Figure size 432x288 with 1 Axes>"
      ]
     },
     "metadata": {
      "needs_background": "light"
     },
     "output_type": "display_data"
    }
   ],
   "source": [
    "print(history.history.keys())\n",
    "\n",
    "plt.plot(history.history['loss'])\n",
    "plt.plot(history.history['val_loss'])\n",
    "plt.title('model loss')\n",
    "plt.ylabel('loss')\n",
    "plt.xlabel('epoch')\n",
    "plt.legend(['train', 'validation'], loc='upper right')\n",
    "plt.show()"
   ]
  }
 ],
 "metadata": {
  "kernelspec": {
   "display_name": "Python 3",
   "language": "python",
   "name": "python3"
  },
  "language_info": {
   "codemirror_mode": {
    "name": "ipython",
    "version": 3
   },
   "file_extension": ".py",
   "mimetype": "text/x-python",
   "name": "python",
   "nbconvert_exporter": "python",
   "pygments_lexer": "ipython3",
   "version": "3.7.2"
  }
 },
 "nbformat": 4,
 "nbformat_minor": 2
}
